{
  "nbformat": 4,
  "nbformat_minor": 0,
  "metadata": {
    "colab": {
      "provenance": [],
      "gpuType": "T4",
      "mount_file_id": "1FtitUTWAVztUBRwsH64OgxPt3yqe2vE2",
      "authorship_tag": "ABX9TyNXCtvBCUWHzAjIYvYt1sFL",
      "include_colab_link": true
    },
    "kernelspec": {
      "name": "python3",
      "display_name": "Python 3"
    },
    "language_info": {
      "name": "python"
    },
    "accelerator": "GPU"
  },
  "cells": [
    {
      "cell_type": "markdown",
      "metadata": {
        "id": "view-in-github",
        "colab_type": "text"
      },
      "source": [
        "<a href=\"https://colab.research.google.com/github/lilitstepanyan0585gmailcom/ssd_project/blob/main/sdprojectt.ipynb\" target=\"_parent\"><img src=\"https://colab.research.google.com/assets/colab-badge.svg\" alt=\"Open In Colab\"/></a>"
      ]
    },
    {
      "cell_type": "code",
      "source": [
        "from google.colab import drive\n",
        "drive.mount('/content/drive')"
      ],
      "metadata": {
        "id": "h-avsbjMfkBV"
      },
      "execution_count": null,
      "outputs": []
    },
    {
      "cell_type": "code",
      "source": [
        "!pip install opencv-python-headless\n"
      ],
      "metadata": {
        "id": "yhMgMZFxwTGa"
      },
      "execution_count": null,
      "outputs": []
    },
    {
      "cell_type": "code",
      "source": [
        "import cv2\n",
        "import numpy as np\n",
        "import random\n",
        "from google.colab import drive\n",
        "\n",
        "def extract_key_frames(video_path, threshold=0.75, skip_frames=10):\n",
        "    cap = cv2.VideoCapture(video_path)\n",
        "    if not cap.isOpened():\n",
        "        print(\"Ошибка при открытии видео файла.\")\n",
        "        return []\n",
        "\n",
        "    prev_hist = None\n",
        "    key_frames = []\n",
        "    frame_count = 0\n",
        "\n",
        "    try:\n",
        "        while True:\n",
        "            ret, frame = cap.read()\n",
        "            if not ret:\n",
        "                break\n",
        "\n",
        "            frame_count += 1\n",
        "            if frame_count % skip_frames != 0:\n",
        "                continue  # Пропуск кадров\n",
        "\n",
        "\n",
        "            hsv_frame = cv2.cvtColor(frame, cv2.COLOR_BGR2HSV)\n",
        "            hist = cv2.calcHist([hsv_frame], [0, 1, 2], None, [180, 256, 256], [0, 180, 0, 256, 0, 256])\n",
        "            cv2.normalize(hist, hist, 0, 255, cv2.NORM_MINMAX)\n",
        "\n",
        "            if prev_hist is not None:\n",
        "                score = cv2.compareHist(prev_hist, hist, cv2.HISTCMP_CHISQR)\n",
        "                if score > threshold:\n",
        "                    frame_index = int(cap.get(cv2.CAP_PROP_POS_FRAMES)) - 1\n",
        "                    key_frames.append((frame, frame_index, score))\n",
        "            prev_hist = hist\n",
        "    finally:\n",
        "        cap.release()\n",
        "\n",
        "    return key_frames\n",
        "\n",
        "def save_key_frames(key_frames, save_path):\n",
        "    if not key_frames:\n",
        "        print(\"Ключевые кадры не найдены.\")\n",
        "        return\\\n",
        "\n",
        "    # Сорт по убыванию score\n",
        "    key_frames.sort(key=lambda x: x[2], reverse=True)\n",
        "\n",
        "\n",
        "    selected_frames = key_frames[:3]\n",
        "\n",
        "    for idx, (frame, frame_idx, _) in enumerate(selected_frames):\n",
        "        frame_path = f\"{save_path}key_frame_{frame_idx}.png\"\n",
        "        cv2.imwrite(frame_path, frame)\n",
        "        print(f\"Лучший кадр {idx + 1} сохранен по пути: {frame_path}, индекс кадра: {frame_idx}\")\n",
        "\n",
        "\n",
        "video_path = '/content/drive/MyDrive/Лилит /39.mp4' #путь к файлику\n",
        "save_path = '/content/drive/MyDrive/KeyFrames/'\n",
        "\n",
        "key_frames = extract_key_frames(video_path)\n",
        "save_key_frames(key_frames, save_path)\n"
      ],
      "metadata": {
        "id": "4GIDFGslVmc7"
      },
      "execution_count": null,
      "outputs": []
    },
    {
      "cell_type": "code",
      "source": [
        "import cv2\n",
        "import matplotlib.pyplot as plt\n",
        "\n",
        "def display_image(image_path):\n",
        "    image = cv2.imread(image_path)\n",
        "    if image is None:\n",
        "        print(\"Не удалось загрузить изображение. Проверьте путь к файлу.\")\n",
        "        return\n",
        "\n",
        "\n",
        "    image_rgb = cv2.cvtColor(image, cv2.COLOR_BGR2RGB)\n",
        "\n",
        "\n",
        "    plt.imshow(image_rgb)\n",
        "    plt.title('Displayed Image')\n",
        "    plt.axis('off')\n",
        "    plt.show()\n",
        "\n",
        "image_path = '/content/drive/MyDrive/KeyFrames/key_frame_20939.png' #путь к файлику\n",
        "display_image(image_path)\n"
      ],
      "metadata": {
        "id": "ay3NIc25D-6z"
      },
      "execution_count": null,
      "outputs": []
    },
    {
      "cell_type": "code",
      "source": [
        "from transformers import pipeline\n",
        "\n",
        "def translate_text(text, model_id=\"Helsinki-NLP/opus-mt-ru-en\"):\n",
        "    translator = pipeline(\"translation_ru_to_en\", model=model_id)\n",
        "\n",
        "    translation = translator(text, max_length=512)\n",
        "    translated_text = translation[0]['translation_text']\n",
        "\n",
        "    return translated_text\n",
        "\n",
        "# Пример использования функции\n",
        "russian_text = \"\"\n",
        "translated_text = translate_text(russian_text)\n",
        "print(\"Переведенный текст:\", translated_text)\n"
      ],
      "metadata": {
        "id": "tuGXMygd-2oA",
        "collapsed": true
      },
      "execution_count": null,
      "outputs": []
    },
    {
      "cell_type": "code",
      "source": [
        "!pip install accelerate"
      ],
      "metadata": {
        "id": "U9_MFl8XDEzk"
      },
      "execution_count": null,
      "outputs": []
    },
    {
      "cell_type": "code",
      "source": [
        "!pip install jax\n",
        "!pip install jaxlib\n",
        "!pip install optax\n",
        "!pip install chex"
      ],
      "metadata": {
        "id": "E9Zqzp6VcBAI"
      },
      "execution_count": null,
      "outputs": []
    },
    {
      "cell_type": "code",
      "source": [
        "from huggingface_hub import notebook_login\n",
        "\n",
        "notebook_login()"
      ],
      "metadata": {
        "id": "DlXOnHEnUo8B"
      },
      "execution_count": null,
      "outputs": []
    },
    {
      "cell_type": "code",
      "source": [
        "!pip install diffusers"
      ],
      "metadata": {
        "id": "PRC2VjERpDka"
      },
      "execution_count": null,
      "outputs": []
    },
    {
      "cell_type": "code",
      "source": [],
      "metadata": {
        "id": "HovEwgsKpCla"
      },
      "execution_count": null,
      "outputs": []
    },
    {
      "cell_type": "code",
      "source": [
        "import requests\n",
        "import torch\n",
        "from PIL import Image\n",
        "from io import BytesIO\n",
        "\n",
        "from diffusers import StableDiffusionImg2ImgPipeline\n",
        "\n",
        "device = \"cuda\"\n",
        "model_id_or_path = \"runwayml/stable-diffusion-v1-5\"\n",
        "pipe = StableDiffusionImg2ImgPipeline.from_pretrained(model_id_or_path, torch_dtype=torch.float16)\n",
        "pipe = pipe.to(device)\n",
        "\n",
        "init_image = Image.open(open(\"/content/drive/MyDrive/KeyFrames/key_frame_20939.png\", \"rb\")).convert(\"RGB\")#вставить ключ кадр\n",
        "init_image = init_image.resize((768, 512))\n",
        "\n",
        "prompt = \"youtube video thumbnail: \" + translated_text\n",
        "\n",
        "images = pipe(prompt=prompt, image=init_image, strength=0.5, guidance_scale=7.5).images\n",
        "images[0].save(\"aboba.png\")"
      ],
      "metadata": {
        "id": "WDmFq85NvGwL"
      },
      "execution_count": null,
      "outputs": []
    },
    {
      "cell_type": "code",
      "source": [
        "images[0]"
      ],
      "metadata": {
        "id": "iBtTZcgyzF-X"
      },
      "execution_count": null,
      "outputs": []
    }
  ]
}